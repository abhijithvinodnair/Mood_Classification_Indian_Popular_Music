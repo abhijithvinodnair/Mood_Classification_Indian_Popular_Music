{
  "nbformat": 4,
  "nbformat_minor": 0,
  "metadata": {
    "colab": {
      "provenance": []
    },
    "kernelspec": {
      "name": "python3",
      "display_name": "Python 3"
    },
    "language_info": {
      "name": "python"
    }
  },
  "cells": [
    {
      "cell_type": "markdown",
      "source": [],
      "metadata": {
        "id": "QDXLZPRYDg0E"
      }
    },
    {
      "cell_type": "code",
      "source": [
        "import tensorflow as tf\n",
        "from tensorflow.keras.layers import Layer\n",
        "\n",
        "class OrthogonalProjection(Layer):\n",
        "    def __init__(self, **kwargs):\n",
        "        super(OrthogonalProjection, self).__init__(**kwargs)\n",
        "\n",
        "    def call(self, mert_features, hubert_features):\n",
        "        # Compute the dot product between MERT and HUBERT features\n",
        "        dot_product = tf.reduce_sum(mert_features * hubert_features, axis=-1, keepdims=True)\n",
        "\n",
        "        # Compute the norm of HUBERT features\n",
        "        hubert_norm_squared = tf.reduce_sum(tf.square(hubert_features), axis=-1, keepdims=True)\n",
        "\n",
        "        # Calculate the projection of MERT onto HUBERT\n",
        "        projection = (dot_product / (hubert_norm_squared + 1e-8)) * hubert_features\n",
        "\n",
        "        # Subtract the projection from MERT to get the orthogonal component\n",
        "        mert_orthogonal = mert_features - projection\n",
        "\n",
        "        return mert_orthogonal\n"
      ],
      "metadata": {
        "id": "VRhkpGEk0LBT"
      },
      "execution_count": null,
      "outputs": []
    },
    {
      "cell_type": "code",
      "source": [
        "import pandas as pd\n",
        "import numpy as np\n",
        "import ast\n",
        "from tensorflow.keras.models import Model\n",
        "from tensorflow.keras.layers import LSTM, Dense, Input, Concatenate, Dropout, Bidirectional\n",
        "from tensorflow.keras.optimizers import Adam\n",
        "from tensorflow.keras.callbacks import ReduceLROnPlateau, EarlyStopping\n",
        "\n",
        "# Step 1: Load the MERT features and moods from CSV\n",
        "df = pd.read_csv('./final mert_song_features_for 750 window size.csv')\n",
        "if df.empty:\n",
        "    print(\"Error: DataFrame is empty. Check if the CSV file exists and is not empty.\")\n",
        "else:\n",
        "    print(\"DataFrame loaded successfully.\")\n",
        "\n",
        "# Step 2: Load the HUBERT features and moods from CSV\n",
        "df_2 = pd.read_csv('./final hubert_song_features_for 750 window size.csv')\n",
        "if df_2.empty:\n",
        "    print(\"Error: DataFrame is empty. Check if the CSV file exists and is not empty.\")\n",
        "else:\n",
        "    print(\"DataFrame loaded successfully.\")\n",
        "\n",
        "# Step 3: Convert the feature vectors from string representation to lists\n",
        "\n",
        "#song_data_array_2 will now contain HUBERT features without mood labels in a numpy array. The column is named as 'mert_feature_vector' but it contains HUBERT features only.\n",
        "song_data_2 = df_2['mert_feature_vector'].apply(ast.literal_eval)\n",
        "song_data_array_2 = np.array(song_data_2.tolist())\n",
        "\n",
        "#song_data_array now contains MERT features without mood labels in a numpy array.\n",
        "song_data = df['mert_feature_vector'].apply(ast.literal_eval)\n",
        "song_data_array = np.array(song_data.tolist())\n",
        "\n",
        "# Convert the mood_labels to integers (ensure they are in integer format)\n",
        "mood_labels = df['mood'].values.astype(int)\n",
        "\n",
        "# Confirm the conversion\n",
        "print(f\"Converted mood_labels to integers: {mood_labels[:5]}\")  # Show first 5 values to confirm conversion\n",
        "\n",
        "# Step 1: Define the input shapes\n",
        "mert_input = Input(shape=(30, 1024))  # 30 segments, each of length 1024 for MERT\n",
        "hubert_input = Input(shape=(30, 1024))  # 30 segments, each of length 1024 for HUBERT\n",
        "\n",
        "# Step 2: Apply Bidirectional LSTM on both MERT and HUBERT inputs\n",
        "mert_lstm = Bidirectional(LSTM(512, return_sequences=True))(mert_input)\n",
        "hubert_lstm = Bidirectional(LSTM(512, return_sequences=True))(hubert_input)\n",
        "\n",
        "# Step 3: Orthogonal projection of mert\n",
        "orthogonal_layer = OrthogonalProjection()\n",
        "mert_orthogonal = orthogonal_layer(mert_features=mert_lstm, hubert_features=hubert_lstm)\n",
        "\n",
        "# Step 4: Concatenate the outputs\n",
        "#concatenated_features = Concatenate(axis=1)([mert_orthogonal, hubert_lstm])\n",
        "\n",
        "# Step 5: Apply another LSTM to the concatenated features\n",
        "merged_lstm = Bidirectional(LSTM(512))(mert_orthogonal)\n",
        "\n",
        "# Step 6: Add Feed-forward layers\n",
        "dense_1 = Dense(512, activation='relu')(merged_lstm)\n",
        "dense_2 = Dense(256, activation='relu')(dense_1)\n",
        "\n",
        "# Step 7: Output layer for classification (assuming 4 classes for mood)\n",
        "output = Dense(4, activation='softmax')(dense_2)\n",
        "\n",
        "# Step 8: Create the model\n",
        "model = Model(inputs=[mert_input, hubert_input], outputs=output)\n",
        "\n",
        "# Step 9: Compile the model using sparse categorical cross-entropy\n",
        "optimizer = Adam(learning_rate=0.001)\n",
        "\n",
        "# Step 10: Compile the model\n",
        "model.compile(optimizer=optimizer, loss='sparse_categorical_crossentropy', metrics=['accuracy'])\n",
        "\n",
        "# Summary of the model\n",
        "model.summary()\n",
        "\n",
        "# Step 11: Prepare the data for training (combine MERT and HUBERT features)\n",
        "X_mert_train = song_data_array\n",
        "X_hubert_train = song_data_array_2\n",
        "\n",
        "# Step 12: Setup learning rate scheduler and early stopping\n",
        "lr_scheduler = ReduceLROnPlateau(monitor='val_loss', factor=0.5, patience=5, verbose=1)\n",
        "early_stop = EarlyStopping(monitor='val_loss', patience=20, restore_best_weights=True)\n",
        "\n",
        "# Step 13: Train the model\n",
        "history = model.fit(\n",
        "    [X_mert_train, X_hubert_train], mood_labels,\n",
        "    epochs=15,\n",
        "    batch_size=32\n",
        ")\n"
      ],
      "metadata": {
        "id": "aQmvy1B9dBsO",
        "colab": {
          "base_uri": "https://localhost:8080/",
          "height": 1000
        },
        "outputId": "09492fc7-f1e5-472e-fae5-a0a9c0364f38"
      },
      "execution_count": null,
      "outputs": [
        {
          "output_type": "stream",
          "name": "stdout",
          "text": [
            "DataFrame loaded successfully.\n",
            "DataFrame loaded successfully.\n",
            "Converted mood_labels to integers: [0 0 0 0 0]\n"
          ]
        },
        {
          "output_type": "display_data",
          "data": {
            "text/plain": [
              "\u001b[1mModel: \"functional_7\"\u001b[0m\n"
            ],
            "text/html": [
              "<pre style=\"white-space:pre;overflow-x:auto;line-height:normal;font-family:Menlo,'DejaVu Sans Mono',consolas,'Courier New',monospace\"><span style=\"font-weight: bold\">Model: \"functional_7\"</span>\n",
              "</pre>\n"
            ]
          },
          "metadata": {}
        },
        {
          "output_type": "display_data",
          "data": {
            "text/plain": [
              "┏━━━━━━━━━━━━━━━━━━━━━━━━━━━┳━━━━━━━━━━━━━━━━━━━━━━━━┳━━━━━━━━━━━━━━━━┳━━━━━━━━━━━━━━━━━━━━━━━━┓\n",
              "┃\u001b[1m \u001b[0m\u001b[1mLayer (type)             \u001b[0m\u001b[1m \u001b[0m┃\u001b[1m \u001b[0m\u001b[1mOutput Shape          \u001b[0m\u001b[1m \u001b[0m┃\u001b[1m \u001b[0m\u001b[1m       Param #\u001b[0m\u001b[1m \u001b[0m┃\u001b[1m \u001b[0m\u001b[1mConnected to          \u001b[0m\u001b[1m \u001b[0m┃\n",
              "┡━━━━━━━━━━━━━━━━━━━━━━━━━━━╇━━━━━━━━━━━━━━━━━━━━━━━━╇━━━━━━━━━━━━━━━━╇━━━━━━━━━━━━━━━━━━━━━━━━┩\n",
              "│ input_layer_17            │ (\u001b[38;5;45mNone\u001b[0m, \u001b[38;5;34m30\u001b[0m, \u001b[38;5;34m1024\u001b[0m)       │              \u001b[38;5;34m0\u001b[0m │ -                      │\n",
              "│ (\u001b[38;5;33mInputLayer\u001b[0m)              │                        │                │                        │\n",
              "├───────────────────────────┼────────────────────────┼────────────────┼────────────────────────┤\n",
              "│ input_layer_16            │ (\u001b[38;5;45mNone\u001b[0m, \u001b[38;5;34m30\u001b[0m, \u001b[38;5;34m1024\u001b[0m)       │              \u001b[38;5;34m0\u001b[0m │ -                      │\n",
              "│ (\u001b[38;5;33mInputLayer\u001b[0m)              │                        │                │                        │\n",
              "├───────────────────────────┼────────────────────────┼────────────────┼────────────────────────┤\n",
              "│ bidirectional_24          │ (\u001b[38;5;45mNone\u001b[0m, \u001b[38;5;34m30\u001b[0m, \u001b[38;5;34m1024\u001b[0m)       │      \u001b[38;5;34m6,295,552\u001b[0m │ input_layer_17[\u001b[38;5;34m0\u001b[0m][\u001b[38;5;34m0\u001b[0m]   │\n",
              "│ (\u001b[38;5;33mBidirectional\u001b[0m)           │                        │                │                        │\n",
              "├───────────────────────────┼────────────────────────┼────────────────┼────────────────────────┤\n",
              "│ bidirectional_23          │ (\u001b[38;5;45mNone\u001b[0m, \u001b[38;5;34m30\u001b[0m, \u001b[38;5;34m1024\u001b[0m)       │      \u001b[38;5;34m6,295,552\u001b[0m │ input_layer_16[\u001b[38;5;34m0\u001b[0m][\u001b[38;5;34m0\u001b[0m]   │\n",
              "│ (\u001b[38;5;33mBidirectional\u001b[0m)           │                        │                │                        │\n",
              "├───────────────────────────┼────────────────────────┼────────────────┼────────────────────────┤\n",
              "│ orthogonal_projection_7   │ (\u001b[38;5;45mNone\u001b[0m, \u001b[38;5;34m30\u001b[0m, \u001b[38;5;34m1024\u001b[0m)       │              \u001b[38;5;34m0\u001b[0m │ bidirectional_24[\u001b[38;5;34m0\u001b[0m][\u001b[38;5;34m0\u001b[0m… │\n",
              "│ (\u001b[38;5;33mOrthogonalProjection\u001b[0m)    │                        │                │ bidirectional_23[\u001b[38;5;34m0\u001b[0m][\u001b[38;5;34m0\u001b[0m] │\n",
              "├───────────────────────────┼────────────────────────┼────────────────┼────────────────────────┤\n",
              "│ bidirectional_25          │ (\u001b[38;5;45mNone\u001b[0m, \u001b[38;5;34m1024\u001b[0m)           │      \u001b[38;5;34m6,295,552\u001b[0m │ orthogonal_projection… │\n",
              "│ (\u001b[38;5;33mBidirectional\u001b[0m)           │                        │                │                        │\n",
              "├───────────────────────────┼────────────────────────┼────────────────┼────────────────────────┤\n",
              "│ dense_21 (\u001b[38;5;33mDense\u001b[0m)          │ (\u001b[38;5;45mNone\u001b[0m, \u001b[38;5;34m512\u001b[0m)            │        \u001b[38;5;34m524,800\u001b[0m │ bidirectional_25[\u001b[38;5;34m0\u001b[0m][\u001b[38;5;34m0\u001b[0m] │\n",
              "├───────────────────────────┼────────────────────────┼────────────────┼────────────────────────┤\n",
              "│ dense_22 (\u001b[38;5;33mDense\u001b[0m)          │ (\u001b[38;5;45mNone\u001b[0m, \u001b[38;5;34m256\u001b[0m)            │        \u001b[38;5;34m131,328\u001b[0m │ dense_21[\u001b[38;5;34m0\u001b[0m][\u001b[38;5;34m0\u001b[0m]         │\n",
              "├───────────────────────────┼────────────────────────┼────────────────┼────────────────────────┤\n",
              "│ dense_23 (\u001b[38;5;33mDense\u001b[0m)          │ (\u001b[38;5;45mNone\u001b[0m, \u001b[38;5;34m4\u001b[0m)              │          \u001b[38;5;34m1,028\u001b[0m │ dense_22[\u001b[38;5;34m0\u001b[0m][\u001b[38;5;34m0\u001b[0m]         │\n",
              "└───────────────────────────┴────────────────────────┴────────────────┴────────────────────────┘\n"
            ],
            "text/html": [
              "<pre style=\"white-space:pre;overflow-x:auto;line-height:normal;font-family:Menlo,'DejaVu Sans Mono',consolas,'Courier New',monospace\">┏━━━━━━━━━━━━━━━━━━━━━━━━━━━┳━━━━━━━━━━━━━━━━━━━━━━━━┳━━━━━━━━━━━━━━━━┳━━━━━━━━━━━━━━━━━━━━━━━━┓\n",
              "┃<span style=\"font-weight: bold\"> Layer (type)              </span>┃<span style=\"font-weight: bold\"> Output Shape           </span>┃<span style=\"font-weight: bold\">        Param # </span>┃<span style=\"font-weight: bold\"> Connected to           </span>┃\n",
              "┡━━━━━━━━━━━━━━━━━━━━━━━━━━━╇━━━━━━━━━━━━━━━━━━━━━━━━╇━━━━━━━━━━━━━━━━╇━━━━━━━━━━━━━━━━━━━━━━━━┩\n",
              "│ input_layer_17            │ (<span style=\"color: #00d7ff; text-decoration-color: #00d7ff\">None</span>, <span style=\"color: #00af00; text-decoration-color: #00af00\">30</span>, <span style=\"color: #00af00; text-decoration-color: #00af00\">1024</span>)       │              <span style=\"color: #00af00; text-decoration-color: #00af00\">0</span> │ -                      │\n",
              "│ (<span style=\"color: #0087ff; text-decoration-color: #0087ff\">InputLayer</span>)              │                        │                │                        │\n",
              "├───────────────────────────┼────────────────────────┼────────────────┼────────────────────────┤\n",
              "│ input_layer_16            │ (<span style=\"color: #00d7ff; text-decoration-color: #00d7ff\">None</span>, <span style=\"color: #00af00; text-decoration-color: #00af00\">30</span>, <span style=\"color: #00af00; text-decoration-color: #00af00\">1024</span>)       │              <span style=\"color: #00af00; text-decoration-color: #00af00\">0</span> │ -                      │\n",
              "│ (<span style=\"color: #0087ff; text-decoration-color: #0087ff\">InputLayer</span>)              │                        │                │                        │\n",
              "├───────────────────────────┼────────────────────────┼────────────────┼────────────────────────┤\n",
              "│ bidirectional_24          │ (<span style=\"color: #00d7ff; text-decoration-color: #00d7ff\">None</span>, <span style=\"color: #00af00; text-decoration-color: #00af00\">30</span>, <span style=\"color: #00af00; text-decoration-color: #00af00\">1024</span>)       │      <span style=\"color: #00af00; text-decoration-color: #00af00\">6,295,552</span> │ input_layer_17[<span style=\"color: #00af00; text-decoration-color: #00af00\">0</span>][<span style=\"color: #00af00; text-decoration-color: #00af00\">0</span>]   │\n",
              "│ (<span style=\"color: #0087ff; text-decoration-color: #0087ff\">Bidirectional</span>)           │                        │                │                        │\n",
              "├───────────────────────────┼────────────────────────┼────────────────┼────────────────────────┤\n",
              "│ bidirectional_23          │ (<span style=\"color: #00d7ff; text-decoration-color: #00d7ff\">None</span>, <span style=\"color: #00af00; text-decoration-color: #00af00\">30</span>, <span style=\"color: #00af00; text-decoration-color: #00af00\">1024</span>)       │      <span style=\"color: #00af00; text-decoration-color: #00af00\">6,295,552</span> │ input_layer_16[<span style=\"color: #00af00; text-decoration-color: #00af00\">0</span>][<span style=\"color: #00af00; text-decoration-color: #00af00\">0</span>]   │\n",
              "│ (<span style=\"color: #0087ff; text-decoration-color: #0087ff\">Bidirectional</span>)           │                        │                │                        │\n",
              "├───────────────────────────┼────────────────────────┼────────────────┼────────────────────────┤\n",
              "│ orthogonal_projection_7   │ (<span style=\"color: #00d7ff; text-decoration-color: #00d7ff\">None</span>, <span style=\"color: #00af00; text-decoration-color: #00af00\">30</span>, <span style=\"color: #00af00; text-decoration-color: #00af00\">1024</span>)       │              <span style=\"color: #00af00; text-decoration-color: #00af00\">0</span> │ bidirectional_24[<span style=\"color: #00af00; text-decoration-color: #00af00\">0</span>][<span style=\"color: #00af00; text-decoration-color: #00af00\">0</span>… │\n",
              "│ (<span style=\"color: #0087ff; text-decoration-color: #0087ff\">OrthogonalProjection</span>)    │                        │                │ bidirectional_23[<span style=\"color: #00af00; text-decoration-color: #00af00\">0</span>][<span style=\"color: #00af00; text-decoration-color: #00af00\">0</span>] │\n",
              "├───────────────────────────┼────────────────────────┼────────────────┼────────────────────────┤\n",
              "│ bidirectional_25          │ (<span style=\"color: #00d7ff; text-decoration-color: #00d7ff\">None</span>, <span style=\"color: #00af00; text-decoration-color: #00af00\">1024</span>)           │      <span style=\"color: #00af00; text-decoration-color: #00af00\">6,295,552</span> │ orthogonal_projection… │\n",
              "│ (<span style=\"color: #0087ff; text-decoration-color: #0087ff\">Bidirectional</span>)           │                        │                │                        │\n",
              "├───────────────────────────┼────────────────────────┼────────────────┼────────────────────────┤\n",
              "│ dense_21 (<span style=\"color: #0087ff; text-decoration-color: #0087ff\">Dense</span>)          │ (<span style=\"color: #00d7ff; text-decoration-color: #00d7ff\">None</span>, <span style=\"color: #00af00; text-decoration-color: #00af00\">512</span>)            │        <span style=\"color: #00af00; text-decoration-color: #00af00\">524,800</span> │ bidirectional_25[<span style=\"color: #00af00; text-decoration-color: #00af00\">0</span>][<span style=\"color: #00af00; text-decoration-color: #00af00\">0</span>] │\n",
              "├───────────────────────────┼────────────────────────┼────────────────┼────────────────────────┤\n",
              "│ dense_22 (<span style=\"color: #0087ff; text-decoration-color: #0087ff\">Dense</span>)          │ (<span style=\"color: #00d7ff; text-decoration-color: #00d7ff\">None</span>, <span style=\"color: #00af00; text-decoration-color: #00af00\">256</span>)            │        <span style=\"color: #00af00; text-decoration-color: #00af00\">131,328</span> │ dense_21[<span style=\"color: #00af00; text-decoration-color: #00af00\">0</span>][<span style=\"color: #00af00; text-decoration-color: #00af00\">0</span>]         │\n",
              "├───────────────────────────┼────────────────────────┼────────────────┼────────────────────────┤\n",
              "│ dense_23 (<span style=\"color: #0087ff; text-decoration-color: #0087ff\">Dense</span>)          │ (<span style=\"color: #00d7ff; text-decoration-color: #00d7ff\">None</span>, <span style=\"color: #00af00; text-decoration-color: #00af00\">4</span>)              │          <span style=\"color: #00af00; text-decoration-color: #00af00\">1,028</span> │ dense_22[<span style=\"color: #00af00; text-decoration-color: #00af00\">0</span>][<span style=\"color: #00af00; text-decoration-color: #00af00\">0</span>]         │\n",
              "└───────────────────────────┴────────────────────────┴────────────────┴────────────────────────┘\n",
              "</pre>\n"
            ]
          },
          "metadata": {}
        },
        {
          "output_type": "display_data",
          "data": {
            "text/plain": [
              "\u001b[1m Total params: \u001b[0m\u001b[38;5;34m19,543,812\u001b[0m (74.55 MB)\n"
            ],
            "text/html": [
              "<pre style=\"white-space:pre;overflow-x:auto;line-height:normal;font-family:Menlo,'DejaVu Sans Mono',consolas,'Courier New',monospace\"><span style=\"font-weight: bold\"> Total params: </span><span style=\"color: #00af00; text-decoration-color: #00af00\">19,543,812</span> (74.55 MB)\n",
              "</pre>\n"
            ]
          },
          "metadata": {}
        },
        {
          "output_type": "display_data",
          "data": {
            "text/plain": [
              "\u001b[1m Trainable params: \u001b[0m\u001b[38;5;34m19,543,812\u001b[0m (74.55 MB)\n"
            ],
            "text/html": [
              "<pre style=\"white-space:pre;overflow-x:auto;line-height:normal;font-family:Menlo,'DejaVu Sans Mono',consolas,'Courier New',monospace\"><span style=\"font-weight: bold\"> Trainable params: </span><span style=\"color: #00af00; text-decoration-color: #00af00\">19,543,812</span> (74.55 MB)\n",
              "</pre>\n"
            ]
          },
          "metadata": {}
        },
        {
          "output_type": "display_data",
          "data": {
            "text/plain": [
              "\u001b[1m Non-trainable params: \u001b[0m\u001b[38;5;34m0\u001b[0m (0.00 B)\n"
            ],
            "text/html": [
              "<pre style=\"white-space:pre;overflow-x:auto;line-height:normal;font-family:Menlo,'DejaVu Sans Mono',consolas,'Courier New',monospace\"><span style=\"font-weight: bold\"> Non-trainable params: </span><span style=\"color: #00af00; text-decoration-color: #00af00\">0</span> (0.00 B)\n",
              "</pre>\n"
            ]
          },
          "metadata": {}
        },
        {
          "output_type": "stream",
          "name": "stdout",
          "text": [
            "Epoch 1/15\n"
          ]
        },
        {
          "output_type": "stream",
          "name": "stderr",
          "text": [
            "/usr/local/lib/python3.10/dist-packages/keras/src/models/functional.py:225: UserWarning: The structure of `inputs` doesn't match the expected structure: ['keras_tensor_72', 'keras_tensor_73']. Received: the structure of inputs=('*', '*')\n",
            "  warnings.warn(\n"
          ]
        },
        {
          "output_type": "stream",
          "name": "stdout",
          "text": [
            "\u001b[1m8/8\u001b[0m \u001b[32m━━━━━━━━━━━━━━━━━━━━\u001b[0m\u001b[37m\u001b[0m \u001b[1m10s\u001b[0m 408ms/step - accuracy: 0.2639 - loss: 1.6789\n",
            "Epoch 2/15\n",
            "\u001b[1m8/8\u001b[0m \u001b[32m━━━━━━━━━━━━━━━━━━━━\u001b[0m\u001b[37m\u001b[0m \u001b[1m3s\u001b[0m 414ms/step - accuracy: 0.3006 - loss: 1.4596\n",
            "Epoch 3/15\n",
            "\u001b[1m8/8\u001b[0m \u001b[32m━━━━━━━━━━━━━━━━━━━━\u001b[0m\u001b[37m\u001b[0m \u001b[1m3s\u001b[0m 408ms/step - accuracy: 0.2951 - loss: 1.5399\n",
            "Epoch 4/15\n",
            "\u001b[1m8/8\u001b[0m \u001b[32m━━━━━━━━━━━━━━━━━━━━\u001b[0m\u001b[37m\u001b[0m \u001b[1m3s\u001b[0m 410ms/step - accuracy: 0.3123 - loss: 1.2593\n",
            "Epoch 5/15\n",
            "\u001b[1m8/8\u001b[0m \u001b[32m━━━━━━━━━━━━━━━━━━━━\u001b[0m\u001b[37m\u001b[0m \u001b[1m3s\u001b[0m 405ms/step - accuracy: 0.4183 - loss: 1.2551\n",
            "Epoch 6/15\n",
            "\u001b[1m8/8\u001b[0m \u001b[32m━━━━━━━━━━━━━━━━━━━━\u001b[0m\u001b[37m\u001b[0m \u001b[1m3s\u001b[0m 408ms/step - accuracy: 0.5049 - loss: 1.1064\n",
            "Epoch 7/15\n",
            "\u001b[1m8/8\u001b[0m \u001b[32m━━━━━━━━━━━━━━━━━━━━\u001b[0m\u001b[37m\u001b[0m \u001b[1m3s\u001b[0m 410ms/step - accuracy: 0.5214 - loss: 1.0678\n",
            "Epoch 8/15\n",
            "\u001b[1m8/8\u001b[0m \u001b[32m━━━━━━━━━━━━━━━━━━━━\u001b[0m\u001b[37m\u001b[0m \u001b[1m3s\u001b[0m 407ms/step - accuracy: 0.5630 - loss: 0.9800\n",
            "Epoch 9/15\n",
            "\u001b[1m8/8\u001b[0m \u001b[32m━━━━━━━━━━━━━━━━━━━━\u001b[0m\u001b[37m\u001b[0m \u001b[1m3s\u001b[0m 410ms/step - accuracy: 0.4717 - loss: 1.1719\n",
            "Epoch 10/15\n",
            "\u001b[1m8/8\u001b[0m \u001b[32m━━━━━━━━━━━━━━━━━━━━\u001b[0m\u001b[37m\u001b[0m \u001b[1m3s\u001b[0m 404ms/step - accuracy: 0.4223 - loss: 1.1369\n",
            "Epoch 11/15\n",
            "\u001b[1m8/8\u001b[0m \u001b[32m━━━━━━━━━━━━━━━━━━━━\u001b[0m\u001b[37m\u001b[0m \u001b[1m3s\u001b[0m 409ms/step - accuracy: 0.4843 - loss: 1.0575\n",
            "Epoch 12/15\n",
            "\u001b[1m8/8\u001b[0m \u001b[32m━━━━━━━━━━━━━━━━━━━━\u001b[0m\u001b[37m\u001b[0m \u001b[1m3s\u001b[0m 410ms/step - accuracy: 0.5519 - loss: 1.0278\n",
            "Epoch 13/15\n",
            "\u001b[1m8/8\u001b[0m \u001b[32m━━━━━━━━━━━━━━━━━━━━\u001b[0m\u001b[37m\u001b[0m \u001b[1m3s\u001b[0m 408ms/step - accuracy: 0.4703 - loss: 1.0828\n",
            "Epoch 14/15\n",
            "\u001b[1m8/8\u001b[0m \u001b[32m━━━━━━━━━━━━━━━━━━━━\u001b[0m\u001b[37m\u001b[0m \u001b[1m3s\u001b[0m 408ms/step - accuracy: 0.5010 - loss: 1.0075\n",
            "Epoch 15/15\n",
            "\u001b[1m8/8\u001b[0m \u001b[32m━━━━━━━━━━━━━━━━━━━━\u001b[0m\u001b[37m\u001b[0m \u001b[1m3s\u001b[0m 411ms/step - accuracy: 0.6250 - loss: 0.8840\n"
          ]
        }
      ]
    },
    {
      "cell_type": "code",
      "source": [],
      "metadata": {
        "id": "wJ_ptygN1v_g"
      },
      "execution_count": null,
      "outputs": []
    },
    {
      "cell_type": "code",
      "source": [
        "import pandas as pd\n",
        "import numpy as np\n",
        "import ast\n",
        "from sklearn.metrics import classification_report, accuracy_score, precision_score, recall_score, f1_score\n",
        "\n",
        "# Step 1: Load the MERT test features and moods from the test CSV\n",
        "df_test = pd.DataFrame(columns=['mert_feature_vector', 'mood'])  # Initialize DataFrame\n",
        "df_test = pd.read_csv('./test mert_song_features_for 750 window size.csv')\n",
        "if df_test.empty:\n",
        "    print(\"Error: DataFrame is empty. Check if the CSV file exists and is not empty.\")\n",
        "else:\n",
        "    print(\"Test DataFrame loaded successfully.\")\n",
        "\n",
        "# Step 2: Load the HUBERT test features and moods from the test CSV\n",
        "df_2_test = pd.DataFrame(columns=['mert_feature_vector', 'mood'])  # Initialize DataFrame\n",
        "df_2_test = pd.read_csv('./test hubert_song_features_for 750 window size.csv')\n",
        "if df_2_test.empty:\n",
        "    print(\"Error: DataFrame is empty. Check if the CSV file exists and is not empty.\")\n",
        "else:\n",
        "    print(\"Test DataFrame loaded successfully.\")\n",
        "\n",
        "#Shuffling the test features\n",
        "df_test = df_test.sample(frac=1, random_state=42).reset_index(drop=True)\n",
        "df_2_test = df_2_test.sample(frac=1, random_state=42).reset_index(drop=True)\n",
        "\n",
        "# Step 3: Convert the feature vectors from string representation to lists for both MERT and HUBERT\n",
        "song_data_2_test = df_2_test['mert_feature_vector'].apply(ast.literal_eval)\n",
        "song_data_array_2_test = np.array(song_data_2_test.tolist())\n",
        "\n",
        "song_data_test = df_test['mert_feature_vector'].apply(ast.literal_eval)\n",
        "song_data_array_test = np.array(song_data_test.tolist())\n",
        "\n",
        "# Step 4: Prepare the test data (inputs for the model)\n",
        "X_mert_test = song_data_array_test  # Test MERT features\n",
        "X_hubert_test = song_data_array_2_test  # Test HUBERT features\n",
        "\n",
        "# Print shapes of the input data to check for mismatch\n",
        "print(f\"Shape of X_mert_test: {X_mert_test.shape}\")\n",
        "print(f\"Shape of X_hubert_test: {X_hubert_test.shape}\")\n",
        "\n",
        "# Step 5: Extract true labels\n",
        "y_true = df_test['mood'].values.astype(int)\n",
        "\n",
        "# Confirm the conversion\n",
        "print(f\"Converted mood_labels to integers: {y_true[:5]}\")  # Show first 5 values to confirm conversion\n",
        "  # Extracting true mood labels for evaluation\n",
        "print(f\"Shape of y_true: {y_true.shape}\")  # Check shape of the true labels\n",
        "\n",
        "# Step 6: Make predictions using the trained model\n",
        "# Check the model input structure\n",
        "print(f\"Expected model input structure: {model.input_shape}\")\n",
        "\n",
        "# Predict\n",
        "predictions = model.predict([X_mert_test, X_hubert_test])\n",
        "\n",
        "# Step 7: Convert predictions to class labels\n",
        "predicted_classes = np.argmax(predictions, axis=1)\n",
        "\n",
        "# Step 8: Calculate and print metrics\n",
        "# Accuracy\n",
        "accuracy = accuracy_score(y_true, predicted_classes)\n",
        "print(f\"Accuracy: {accuracy:.4f}\")\n",
        "\n",
        "# Precision, Recall, F1 Score\n",
        "precision = precision_score(y_true, predicted_classes, average='weighted')\n",
        "recall = recall_score(y_true, predicted_classes, average='weighted')\n",
        "f1 = f1_score(y_true, predicted_classes, average='weighted')\n",
        "print(f\"Precision: {precision:.4f}\")\n",
        "print(f\"Recall: {recall:.4f}\")\n",
        "print(f\"F1 Score: {f1:.4f}\")\n",
        "\n",
        "# Detailed classification report\n",
        "print(\"\\nClassification Report:\")\n",
        "print(classification_report(y_true, predicted_classes, target_names=['Mood 0', 'Mood 1', 'Mood 2', 'Mood 3']))\n",
        "print(y_true)"
      ],
      "metadata": {
        "id": "V5y3l3ppb0iT",
        "colab": {
          "base_uri": "https://localhost:8080/"
        },
        "outputId": "a3eebe08-432e-4d3f-fe6b-6ce4095596cd"
      },
      "execution_count": null,
      "outputs": [
        {
          "output_type": "stream",
          "name": "stdout",
          "text": [
            "Test DataFrame loaded successfully.\n",
            "Test DataFrame loaded successfully.\n",
            "Shape of X_mert_test: (45, 30, 1024)\n",
            "Shape of X_hubert_test: (45, 30, 1024)\n",
            "Converted mood_labels to integers: [3 2 2 3 3]\n",
            "Shape of y_true: (45,)\n",
            "Expected model input structure: [(None, 30, 1024), (None, 30, 1024)]\n"
          ]
        },
        {
          "output_type": "stream",
          "name": "stderr",
          "text": [
            "/usr/local/lib/python3.10/dist-packages/keras/src/models/functional.py:225: UserWarning: The structure of `inputs` doesn't match the expected structure: ['keras_tensor_72', 'keras_tensor_73']. Received: the structure of inputs=('*', '*')\n",
            "  warnings.warn(\n"
          ]
        },
        {
          "output_type": "stream",
          "name": "stdout",
          "text": [
            "\u001b[1m2/2\u001b[0m \u001b[32m━━━━━━━━━━━━━━━━━━━━\u001b[0m\u001b[37m\u001b[0m \u001b[1m2s\u001b[0m 723ms/step\n",
            "Accuracy: 0.6667\n",
            "Precision: 0.7293\n",
            "Recall: 0.6667\n",
            "F1 Score: 0.6673\n",
            "\n",
            "Classification Report:\n",
            "              precision    recall  f1-score   support\n",
            "\n",
            "      Mood 0       0.71      0.50      0.59        10\n",
            "      Mood 1       0.80      0.73      0.76        11\n",
            "      Mood 2       0.88      0.54      0.67        13\n",
            "      Mood 3       0.50      0.91      0.65        11\n",
            "\n",
            "    accuracy                           0.67        45\n",
            "   macro avg       0.72      0.67      0.67        45\n",
            "weighted avg       0.73      0.67      0.67        45\n",
            "\n",
            "[3 2 2 3 3 3 0 1 0 0 0 2 2 1 1 1 3 1 0 1 3 2 2 0 2 2 0 1 2 0 3 2 0 3 2 3 1\n",
            " 2 1 3 1 0 1 2 3]\n"
          ]
        }
      ]
    },
    {
      "cell_type": "code",
      "source": [
        "import numpy as np\n",
        "from sklearn.metrics import confusion_matrix, ConfusionMatrixDisplay\n",
        "import matplotlib.pyplot as plt\n",
        "\n",
        "cm = confusion_matrix(y_true, predicted_classes)\n",
        "\n",
        "# Step 4: Display the confusion matrix\n",
        "disp = ConfusionMatrixDisplay(confusion_matrix=cm, display_labels=['exuberance', 'contentment', 'anxiety', 'depression'])\n",
        "disp.plot(cmap='Blues')\n",
        "plt.title(\"Confusion Matrix\")\n",
        "plt.show()"
      ],
      "metadata": {
        "id": "uQYgMyBiH5g8",
        "colab": {
          "base_uri": "https://localhost:8080/",
          "height": 472
        },
        "outputId": "aea4eeb6-ac8a-44ae-bfd8-6b3bdaaa315f"
      },
      "execution_count": null,
      "outputs": [
        {
          "output_type": "display_data",
          "data": {
            "text/plain": [
              "<Figure size 640x480 with 2 Axes>"
            ],
            "image/png": "[encoded data removed]"
          },
          "metadata": {}
        }
      ]
    },
    {
      "cell_type": "code",
      "source": [],
      "metadata": {
        "id": "OeZ1l7e51HKS"
      },
      "execution_count": null,
      "outputs": []
    }
  ]
}