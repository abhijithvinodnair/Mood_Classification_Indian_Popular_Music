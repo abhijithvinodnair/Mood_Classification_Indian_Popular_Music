{
  "nbformat": 4,
  "nbformat_minor": 0,
  "metadata": {
    "colab": {
      "provenance": []
    },
    "kernelspec": {
      "name": "python3",
      "display_name": "Python 3"
    },
    "language_info": {
      "name": "python"
    }
  },
  "cells": [
    {
      "cell_type": "code",
      "source": [
        "import pandas as pd\n",
        "import numpy as np\n",
        "import ast\n",
        "from tensorflow.keras.models import Model\n",
        "from tensorflow.keras.layers import LSTM, Dense, Input, Concatenate, Dropout, Bidirectional\n",
        "from tensorflow.keras.optimizers import Adam\n",
        "from tensorflow.keras.callbacks import ReduceLROnPlateau, EarlyStopping\n",
        "\n",
        "# Step 1: Load the MERT features and moods from CSV\n",
        "df = pd.read_csv('./final mert_song_features_for 750 window size.csv')\n",
        "if df.empty:\n",
        "    print(\"Error: DataFrame is empty. Check if the CSV file exists and is not empty.\")\n",
        "else:\n",
        "    print(\"DataFrame loaded successfully.\")\n",
        "\n",
        "\n",
        "# Step 3: Convert the feature vectors from string representation to lists\n",
        "#song_data_array now contains MERT features without mood labels in a numpy array.\n",
        "song_data = df['mert_feature_vector'].apply(ast.literal_eval)\n",
        "song_data_array = np.array(song_data.tolist())\n",
        "\n",
        "# Convert the mood_labels to integers (ensure they are in integer format)\n",
        "mood_labels = df['mood'].values.astype(int)\n",
        "\n",
        "# Confirm the conversion\n",
        "print(f\"Converted mood_labels to integers: {mood_labels[:5]}\")  # Show first 5 values to confirm conversion\n",
        "\n",
        "# Step 1: Define the input shapes\n",
        "mert_input = Input(shape=(30, 1024))  # 30 segments, each of length 1024 for MERT\n",
        "\n",
        "# Step 2: Apply Bidirectional LSTM on both MERT and HUBERT inputs\n",
        "mert_lstm = Bidirectional(LSTM(512, return_sequences=False))(mert_input)\n",
        "\n",
        "# Step 6: Add Feed-forward layers\n",
        "dense_1 = Dense(512, activation='relu')(mert_lstm)\n",
        "dense_2 = Dense(256, activation='relu')(dense_1)\n",
        "\n",
        "# Step 7: Output layer for classification (assuming 4 classes for mood)\n",
        "output = Dense(4, activation='softmax')(dense_2)\n",
        "\n",
        "# Step 8: Create the model\n",
        "model = Model(inputs=mert_input, outputs=output)\n",
        "\n",
        "# Step 9: Compile the model using sparse categorical cross-entropy\n",
        "optimizer = Adam(learning_rate=0.001)\n",
        "\n",
        "# Step 10: Compile the model\n",
        "model.compile(optimizer=optimizer, loss='sparse_categorical_crossentropy', metrics=['accuracy'])\n",
        "\n",
        "# Summary of the model\n",
        "model.summary()\n",
        "\n",
        "# Step 11: Prepare the data for training (combine MERT and HUBERT features)\n",
        "X_mert_train = song_data_array\n",
        "\n",
        "# Step 12: Setup learning rate scheduler and early stopping\n",
        "lr_scheduler = ReduceLROnPlateau(monitor='val_loss', factor=0.5, patience=5, verbose=1)\n",
        "early_stop = EarlyStopping(monitor='val_loss', patience=20, restore_best_weights=True)\n",
        "\n",
        "# Step 13: Train the model\n",
        "history = model.fit(\n",
        "    X_mert_train, mood_labels,\n",
        "    epochs=15,\n",
        "    batch_size=32\n",
        ")\n"
      ],
      "metadata": {
        "id": "aQmvy1B9dBsO",
        "colab": {
          "base_uri": "https://localhost:8080/",
          "height": 844
        },
        "outputId": "938fdcd0-059b-4c87-f090-ce189d92a934"
      },
      "execution_count": null,
      "outputs": [
        {
          "output_type": "stream",
          "name": "stdout",
          "text": [
            "DataFrame loaded successfully.\n",
            "Converted mood_labels to integers: [0 0 0 0 0]\n"
          ]
        },
        {
          "output_type": "display_data",
          "data": {
            "text/plain": [
              "\u001b[1mModel: \"functional_1\"\u001b[0m\n"
            ],
            "text/html": [
              "<pre style=\"white-space:pre;overflow-x:auto;line-height:normal;font-family:Menlo,'DejaVu Sans Mono',consolas,'Courier New',monospace\"><span style=\"font-weight: bold\">Model: \"functional_1\"</span>\n",
              "</pre>\n"
            ]
          },
          "metadata": {}
        },
        {
          "output_type": "display_data",
          "data": {
            "text/plain": [
              "┏━━━━━━━━━━━━━━━━━━━━━━━━━━━━━━━━━━━━━━┳━━━━━━━━━━━━━━━━━━━━━━━━━━━━━┳━━━━━━━━━━━━━━━━━┓\n",
              "┃\u001b[1m \u001b[0m\u001b[1mLayer (type)                        \u001b[0m\u001b[1m \u001b[0m┃\u001b[1m \u001b[0m\u001b[1mOutput Shape               \u001b[0m\u001b[1m \u001b[0m┃\u001b[1m \u001b[0m\u001b[1m        Param #\u001b[0m\u001b[1m \u001b[0m┃\n",
              "┡━━━━━━━━━━━━━━━━━━━━━━━━━━━━━━━━━━━━━━╇━━━━━━━━━━━━━━━━━━━━━━━━━━━━━╇━━━━━━━━━━━━━━━━━┩\n",
              "│ input_layer_1 (\u001b[38;5;33mInputLayer\u001b[0m)           │ (\u001b[38;5;45mNone\u001b[0m, \u001b[38;5;34m30\u001b[0m, \u001b[38;5;34m1024\u001b[0m)            │               \u001b[38;5;34m0\u001b[0m │\n",
              "├──────────────────────────────────────┼─────────────────────────────┼─────────────────┤\n",
              "│ bidirectional_1 (\u001b[38;5;33mBidirectional\u001b[0m)      │ (\u001b[38;5;45mNone\u001b[0m, \u001b[38;5;34m1024\u001b[0m)                │       \u001b[38;5;34m6,295,552\u001b[0m │\n",
              "├──────────────────────────────────────┼─────────────────────────────┼─────────────────┤\n",
              "│ dense_3 (\u001b[38;5;33mDense\u001b[0m)                      │ (\u001b[38;5;45mNone\u001b[0m, \u001b[38;5;34m512\u001b[0m)                 │         \u001b[38;5;34m524,800\u001b[0m │\n",
              "├──────────────────────────────────────┼─────────────────────────────┼─────────────────┤\n",
              "│ dense_4 (\u001b[38;5;33mDense\u001b[0m)                      │ (\u001b[38;5;45mNone\u001b[0m, \u001b[38;5;34m256\u001b[0m)                 │         \u001b[38;5;34m131,328\u001b[0m │\n",
              "├──────────────────────────────────────┼─────────────────────────────┼─────────────────┤\n",
              "│ dense_5 (\u001b[38;5;33mDense\u001b[0m)                      │ (\u001b[38;5;45mNone\u001b[0m, \u001b[38;5;34m4\u001b[0m)                   │           \u001b[38;5;34m1,028\u001b[0m │\n",
              "└──────────────────────────────────────┴─────────────────────────────┴─────────────────┘\n"
            ],
            "text/html": [
              "<pre style=\"white-space:pre;overflow-x:auto;line-height:normal;font-family:Menlo,'DejaVu Sans Mono',consolas,'Courier New',monospace\">┏━━━━━━━━━━━━━━━━━━━━━━━━━━━━━━━━━━━━━━┳━━━━━━━━━━━━━━━━━━━━━━━━━━━━━┳━━━━━━━━━━━━━━━━━┓\n",
              "┃<span style=\"font-weight: bold\"> Layer (type)                         </span>┃<span style=\"font-weight: bold\"> Output Shape                </span>┃<span style=\"font-weight: bold\">         Param # </span>┃\n",
              "┡━━━━━━━━━━━━━━━━━━━━━━━━━━━━━━━━━━━━━━╇━━━━━━━━━━━━━━━━━━━━━━━━━━━━━╇━━━━━━━━━━━━━━━━━┩\n",
              "│ input_layer_1 (<span style=\"color: #0087ff; text-decoration-color: #0087ff\">InputLayer</span>)           │ (<span style=\"color: #00d7ff; text-decoration-color: #00d7ff\">None</span>, <span style=\"color: #00af00; text-decoration-color: #00af00\">30</span>, <span style=\"color: #00af00; text-decoration-color: #00af00\">1024</span>)            │               <span style=\"color: #00af00; text-decoration-color: #00af00\">0</span> │\n",
              "├──────────────────────────────────────┼─────────────────────────────┼─────────────────┤\n",
              "│ bidirectional_1 (<span style=\"color: #0087ff; text-decoration-color: #0087ff\">Bidirectional</span>)      │ (<span style=\"color: #00d7ff; text-decoration-color: #00d7ff\">None</span>, <span style=\"color: #00af00; text-decoration-color: #00af00\">1024</span>)                │       <span style=\"color: #00af00; text-decoration-color: #00af00\">6,295,552</span> │\n",
              "├──────────────────────────────────────┼─────────────────────────────┼─────────────────┤\n",
              "│ dense_3 (<span style=\"color: #0087ff; text-decoration-color: #0087ff\">Dense</span>)                      │ (<span style=\"color: #00d7ff; text-decoration-color: #00d7ff\">None</span>, <span style=\"color: #00af00; text-decoration-color: #00af00\">512</span>)                 │         <span style=\"color: #00af00; text-decoration-color: #00af00\">524,800</span> │\n",
              "├──────────────────────────────────────┼─────────────────────────────┼─────────────────┤\n",
              "│ dense_4 (<span style=\"color: #0087ff; text-decoration-color: #0087ff\">Dense</span>)                      │ (<span style=\"color: #00d7ff; text-decoration-color: #00d7ff\">None</span>, <span style=\"color: #00af00; text-decoration-color: #00af00\">256</span>)                 │         <span style=\"color: #00af00; text-decoration-color: #00af00\">131,328</span> │\n",
              "├──────────────────────────────────────┼─────────────────────────────┼─────────────────┤\n",
              "│ dense_5 (<span style=\"color: #0087ff; text-decoration-color: #0087ff\">Dense</span>)                      │ (<span style=\"color: #00d7ff; text-decoration-color: #00d7ff\">None</span>, <span style=\"color: #00af00; text-decoration-color: #00af00\">4</span>)                   │           <span style=\"color: #00af00; text-decoration-color: #00af00\">1,028</span> │\n",
              "└──────────────────────────────────────┴─────────────────────────────┴─────────────────┘\n",
              "</pre>\n"
            ]
          },
          "metadata": {}
        },
        {
          "output_type": "display_data",
          "data": {
            "text/plain": [
              "\u001b[1m Total params: \u001b[0m\u001b[38;5;34m6,952,708\u001b[0m (26.52 MB)\n"
            ],
            "text/html": [
              "<pre style=\"white-space:pre;overflow-x:auto;line-height:normal;font-family:Menlo,'DejaVu Sans Mono',consolas,'Courier New',monospace\"><span style=\"font-weight: bold\"> Total params: </span><span style=\"color: #00af00; text-decoration-color: #00af00\">6,952,708</span> (26.52 MB)\n",
              "</pre>\n"
            ]
          },
          "metadata": {}
        },
        {
          "output_type": "display_data",
          "data": {
            "text/plain": [
              "\u001b[1m Trainable params: \u001b[0m\u001b[38;5;34m6,952,708\u001b[0m (26.52 MB)\n"
            ],
            "text/html": [
              "<pre style=\"white-space:pre;overflow-x:auto;line-height:normal;font-family:Menlo,'DejaVu Sans Mono',consolas,'Courier New',monospace\"><span style=\"font-weight: bold\"> Trainable params: </span><span style=\"color: #00af00; text-decoration-color: #00af00\">6,952,708</span> (26.52 MB)\n",
              "</pre>\n"
            ]
          },
          "metadata": {}
        },
        {
          "output_type": "display_data",
          "data": {
            "text/plain": [
              "\u001b[1m Non-trainable params: \u001b[0m\u001b[38;5;34m0\u001b[0m (0.00 B)\n"
            ],
            "text/html": [
              "<pre style=\"white-space:pre;overflow-x:auto;line-height:normal;font-family:Menlo,'DejaVu Sans Mono',consolas,'Courier New',monospace\"><span style=\"font-weight: bold\"> Non-trainable params: </span><span style=\"color: #00af00; text-decoration-color: #00af00\">0</span> (0.00 B)\n",
              "</pre>\n"
            ]
          },
          "metadata": {}
        },
        {
          "output_type": "stream",
          "name": "stdout",
          "text": [
            "Epoch 1/15\n",
            "\u001b[1m8/8\u001b[0m \u001b[32m━━━━━━━━━━━━━━━━━━━━\u001b[0m\u001b[37m\u001b[0m \u001b[1m3s\u001b[0m 119ms/step - accuracy: 0.2952 - loss: 1.5689\n",
            "Epoch 2/15\n",
            "\u001b[1m8/8\u001b[0m \u001b[32m━━━━━━━━━━━━━━━━━━━━\u001b[0m\u001b[37m\u001b[0m \u001b[1m1s\u001b[0m 121ms/step - accuracy: 0.3234 - loss: 1.3384\n",
            "Epoch 3/15\n",
            "\u001b[1m8/8\u001b[0m \u001b[32m━━━━━━━━━━━━━━━━━━━━\u001b[0m\u001b[37m\u001b[0m \u001b[1m1s\u001b[0m 122ms/step - accuracy: 0.3150 - loss: 1.3646\n",
            "Epoch 4/15\n",
            "\u001b[1m8/8\u001b[0m \u001b[32m━━━━━━━━━━━━━━━━━━━━\u001b[0m\u001b[37m\u001b[0m \u001b[1m1s\u001b[0m 120ms/step - accuracy: 0.3821 - loss: 1.2343\n",
            "Epoch 5/15\n",
            "\u001b[1m8/8\u001b[0m \u001b[32m━━━━━━━━━━━━━━━━━━━━\u001b[0m\u001b[37m\u001b[0m \u001b[1m1s\u001b[0m 121ms/step - accuracy: 0.4047 - loss: 1.2468\n",
            "Epoch 6/15\n",
            "\u001b[1m8/8\u001b[0m \u001b[32m━━━━━━━━━━━━━━━━━━━━\u001b[0m\u001b[37m\u001b[0m \u001b[1m1s\u001b[0m 121ms/step - accuracy: 0.4776 - loss: 1.1098\n",
            "Epoch 7/15\n",
            "\u001b[1m8/8\u001b[0m \u001b[32m━━━━━━━━━━━━━━━━━━━━\u001b[0m\u001b[37m\u001b[0m \u001b[1m1s\u001b[0m 119ms/step - accuracy: 0.5589 - loss: 1.0282\n",
            "Epoch 8/15\n",
            "\u001b[1m8/8\u001b[0m \u001b[32m━━━━━━━━━━━━━━━━━━━━\u001b[0m\u001b[37m\u001b[0m \u001b[1m1s\u001b[0m 120ms/step - accuracy: 0.5399 - loss: 1.0247\n",
            "Epoch 9/15\n",
            "\u001b[1m8/8\u001b[0m \u001b[32m━━━━━━━━━━━━━━━━━━━━\u001b[0m\u001b[37m\u001b[0m \u001b[1m1s\u001b[0m 122ms/step - accuracy: 0.5311 - loss: 1.0982\n",
            "Epoch 10/15\n",
            "\u001b[1m8/8\u001b[0m \u001b[32m━━━━━━━━━━━━━━━━━━━━\u001b[0m\u001b[37m\u001b[0m \u001b[1m1s\u001b[0m 119ms/step - accuracy: 0.4228 - loss: 1.1790\n",
            "Epoch 11/15\n",
            "\u001b[1m8/8\u001b[0m \u001b[32m━━━━━━━━━━━━━━━━━━━━\u001b[0m\u001b[37m\u001b[0m \u001b[1m1s\u001b[0m 121ms/step - accuracy: 0.5955 - loss: 0.9399\n",
            "Epoch 12/15\n",
            "\u001b[1m8/8\u001b[0m \u001b[32m━━━━━━━━━━━━━━━━━━━━\u001b[0m\u001b[37m\u001b[0m \u001b[1m1s\u001b[0m 120ms/step - accuracy: 0.5838 - loss: 0.9132\n",
            "Epoch 13/15\n",
            "\u001b[1m8/8\u001b[0m \u001b[32m━━━━━━━━━━━━━━━━━━━━\u001b[0m\u001b[37m\u001b[0m \u001b[1m1s\u001b[0m 122ms/step - accuracy: 0.6441 - loss: 0.7722\n",
            "Epoch 14/15\n",
            "\u001b[1m8/8\u001b[0m \u001b[32m━━━━━━━━━━━━━━━━━━━━\u001b[0m\u001b[37m\u001b[0m \u001b[1m1s\u001b[0m 121ms/step - accuracy: 0.6915 - loss: 0.7131\n",
            "Epoch 15/15\n",
            "\u001b[1m8/8\u001b[0m \u001b[32m━━━━━━━━━━━━━━━━━━━━\u001b[0m\u001b[37m\u001b[0m \u001b[1m1s\u001b[0m 122ms/step - accuracy: 0.7383 - loss: 0.6971\n"
          ]
        }
      ]
    },
    {
      "cell_type": "code",
      "source": [],
      "metadata": {
        "id": "wJ_ptygN1v_g"
      },
      "execution_count": null,
      "outputs": []
    },
    {
      "cell_type": "code",
      "source": [
        "import pandas as pd\n",
        "import numpy as np\n",
        "import ast\n",
        "from sklearn.metrics import classification_report, accuracy_score, precision_score, recall_score, f1_score\n",
        "\n",
        "# Step 1: Load the MERT test features and moods from the test CSV\n",
        "df_test = pd.DataFrame(columns=['mert_feature_vector', 'mood'])  # Initialize DataFrame\n",
        "df_test = pd.read_csv('./test mert_song_features_for 750 window size.csv')\n",
        "if df_test.empty:\n",
        "    print(\"Error: DataFrame is empty. Check if the CSV file exists and is not empty.\")\n",
        "else:\n",
        "    print(\"Test DataFrame loaded successfully.\")\n",
        "\n",
        "#Shuffling the test features\n",
        "df_test = df_test.sample(frac=1, random_state=42).reset_index(drop=True)\n",
        "\n",
        "song_data_test = df_test['mert_feature_vector'].apply(ast.literal_eval)\n",
        "song_data_array_test = np.array(song_data_test.tolist())\n",
        "\n",
        "# Step 4: Prepare the test data (inputs for the model)\n",
        "X_mert_test = song_data_array_test  # Test MERT features\n",
        "\n",
        "# Print shapes of the input data to check for mismatch\n",
        "print(f\"Shape of X_mert_test: {X_mert_test.shape}\")\n",
        "\n",
        "# Step 5: Extract true labels\n",
        "y_true = df_test['mood'].values.astype(int)\n",
        "\n",
        "# Confirm the conversion\n",
        "print(f\"Converted mood_labels to integers: {y_true[:5]}\")  # Show first 5 values to confirm conversion\n",
        "  # Extracting true mood labels for evaluation\n",
        "print(f\"Shape of y_true: {y_true.shape}\")  # Check shape of the true labels\n",
        "\n",
        "# Step 6: Make predictions using the trained model\n",
        "# Check the model input structure\n",
        "print(f\"Expected model input structure: {model.input_shape}\")\n",
        "\n",
        "# Predict\n",
        "predictions = model.predict(X_mert_test)\n",
        "\n",
        "# Step 7: Convert predictions to class labels\n",
        "predicted_classes = np.argmax(predictions, axis=1)\n",
        "\n",
        "# Step 8: Calculate and print metrics\n",
        "# Accuracy\n",
        "accuracy = accuracy_score(y_true, predicted_classes)\n",
        "print(f\"Accuracy: {accuracy:.4f}\")\n",
        "\n",
        "# Precision, Recall, F1 Score\n",
        "precision = precision_score(y_true, predicted_classes, average='weighted')\n",
        "recall = recall_score(y_true, predicted_classes, average='weighted')\n",
        "f1 = f1_score(y_true, predicted_classes, average='weighted')\n",
        "print(f\"Precision: {precision:.4f}\")\n",
        "print(f\"Recall: {recall:.4f}\")\n",
        "print(f\"F1 Score: {f1:.4f}\")\n",
        "\n",
        "# Detailed classification report\n",
        "print(\"\\nClassification Report:\")\n",
        "print(classification_report(y_true, predicted_classes, target_names=['Mood 0', 'Mood 1', 'Mood 2', 'Mood 3']))\n",
        "print(y_true)"
      ],
      "metadata": {
        "id": "V5y3l3ppb0iT",
        "colab": {
          "base_uri": "https://localhost:8080/"
        },
        "outputId": "b4c71152-caa3-43aa-89ed-e5b240c9957c"
      },
      "execution_count": null,
      "outputs": [
        {
          "output_type": "stream",
          "name": "stdout",
          "text": [
            "Test DataFrame loaded successfully.\n",
            "Shape of X_mert_test: (45, 30, 1024)\n",
            "Converted mood_labels to integers: [3 2 2 3 3]\n",
            "Shape of y_true: (45,)\n",
            "Expected model input structure: (None, 30, 1024)\n",
            "\u001b[1m2/2\u001b[0m \u001b[32m━━━━━━━━━━━━━━━━━━━━\u001b[0m\u001b[37m\u001b[0m \u001b[1m1s\u001b[0m 280ms/step\n",
            "Accuracy: 0.5556\n",
            "Precision: 0.6071\n",
            "Recall: 0.5556\n",
            "F1 Score: 0.5477\n",
            "\n",
            "Classification Report:\n",
            "              precision    recall  f1-score   support\n",
            "\n",
            "      Mood 0       0.41      0.70      0.52        10\n",
            "      Mood 1       0.75      0.55      0.63        11\n",
            "      Mood 2       0.67      0.31      0.42        13\n",
            "      Mood 3       0.57      0.73      0.64        11\n",
            "\n",
            "    accuracy                           0.56        45\n",
            "   macro avg       0.60      0.57      0.55        45\n",
            "weighted avg       0.61      0.56      0.55        45\n",
            "\n",
            "[3 2 2 3 3 3 0 1 0 0 0 2 2 1 1 1 3 1 0 1 3 2 2 0 2 2 0 1 2 0 3 2 0 3 2 3 1\n",
            " 2 1 3 1 0 1 2 3]\n"
          ]
        }
      ]
    },
    {
      "cell_type": "code",
      "source": [
        "import numpy as np\n",
        "from sklearn.metrics import confusion_matrix, ConfusionMatrixDisplay\n",
        "import matplotlib.pyplot as plt\n",
        "\n",
        "cm = confusion_matrix(y_true, predicted_classes)\n",
        "\n",
        "# Step 4: Display the confusion matrix\n",
        "disp = ConfusionMatrixDisplay(confusion_matrix=cm, display_labels=['exuberance', 'contentment', 'anxiety', 'depression'])\n",
        "disp.plot(cmap='Blues')\n",
        "plt.title(\"Confusion Matrix\")\n",
        "plt.show()"
      ],
      "metadata": {
        "id": "uQYgMyBiH5g8",
        "colab": {
          "base_uri": "https://localhost:8080/",
          "height": 472
        },
        "outputId": "c76a718e-ec7a-4991-8a03-5fc32bda5258"
      },
      "execution_count": null,
      "outputs": [
        {
          "output_type": "display_data",
          "data": {
            "text/plain": [
              "<Figure size 640x480 with 2 Axes>"
            ],
            "image/png": "[encoded data removed]"
          },
          "metadata": {}
        }
      ]
    },
    {
      "cell_type": "code",
      "source": [
        "\n"
      ],
      "metadata": {
        "id": "lmK2oGj3aKud"
      },
      "execution_count": null,
      "outputs": []
    },
    {
      "cell_type": "code",
      "source": [
        "\n"
      ],
      "metadata": {
        "id": "GenTlKaTgpE-"
      },
      "execution_count": null,
      "outputs": []
    },
    {
      "cell_type": "code",
      "source": [
        "\n"
      ],
      "metadata": {
        "id": "z6gDeCmYhY6_"
      },
      "execution_count": null,
      "outputs": []
    },
    {
      "cell_type": "code",
      "source": [],
      "metadata": {
        "id": "ioCkxKbehweP"
      },
      "execution_count": null,
      "outputs": []
    }
  ]
}